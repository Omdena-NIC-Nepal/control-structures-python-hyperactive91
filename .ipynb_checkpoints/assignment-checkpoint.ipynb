{
 "cells": [
  {
   "cell_type": "markdown",
   "id": "8b6876a7-464b-48a8-8718-354d0b2f1387",
   "metadata": {},
   "source": [
    "# Task 1"
   ]
  },
  {
   "cell_type": "markdown",
   "id": "edb83d35-9220-4fb4-abfc-d82f20aad618",
   "metadata": {},
   "source": [
    "- While loop to print all the even numbers from 0 to 20 and if the number reaches 16 the loop breaks"
   ]
  },
  {
   "cell_type": "code",
   "execution_count": 13,
   "id": "660bc061-7223-4a5a-9ec3-ca277f838afa",
   "metadata": {},
   "outputs": [],
   "source": [
    "def while_loop():\n",
    "    number=0\n",
    "    while number<=20:\n",
    "        print(number)\n",
    "        number+=2\n",
    "        if number>16:\n",
    "            break    \n"
   ]
  },
  {
   "cell_type": "markdown",
   "id": "0974d1bc-bf3c-45ab-8e74-7deef160897f",
   "metadata": {},
   "source": [
    "# Task 2"
   ]
  },
  {
   "cell_type": "markdown",
   "id": "95a615c7-7eb5-48ef-abd8-fcf3aed42099",
   "metadata": {},
   "source": [
    "- For loop that iterates the number from 1 to 15 and skip printing the numbers divisible by 3"
   ]
  },
  {
   "cell_type": "code",
   "execution_count": null,
   "id": "362f4136-aa11-4d7c-befa-ed7dff4437c2",
   "metadata": {},
   "outputs": [],
   "source": [
    "def for_loop_continue():\n",
    "    for num in range(1,15):\n",
    "        if num%3==0:\n",
    "            continue\n",
    "        print(num)"
   ]
  },
  {
   "cell_type": "markdown",
   "id": "363a8a2d-ac55-42c9-8caf-bf535bc0fd4f",
   "metadata": {},
   "source": [
    "# Task 3"
   ]
  },
  {
   "cell_type": "markdown",
   "id": "f6bcd595-7f81-4c4e-8a6f-6a27c4baafa6",
   "metadata": {},
   "source": [
    "- using if else finding whether the number is positive, negative or zero."
   ]
  },
  {
   "cell_type": "code",
   "execution_count": null,
   "id": "3eb06659-ef05-4fb0-a37c-3ea7e317f5c4",
   "metadata": {},
   "outputs": [],
   "source": [
    "def number_classification():\n",
    "    number=int(input(\"enter a number : \"))\n",
    "    if number>0:\n",
    "        print(\"positive\")\n",
    "    elif number<0:\n",
    "        print(\"negative\")\n",
    "    else:\n",
    "        print(\"zero\")"
   ]
  },
  {
   "cell_type": "markdown",
   "id": "9550ec4b-1345-42b8-a9f5-ce9ff8f896c3",
   "metadata": {},
   "source": [
    "# Task 4"
   ]
  },
  {
   "cell_type": "markdown",
   "id": "73497b2c-22b5-4e72-a0eb-c3dfbb81e14e",
   "metadata": {},
   "source": [
    "- Using nested for loop print multiplication tables 1 through 5"
   ]
  },
  {
   "cell_type": "code",
   "execution_count": 29,
   "id": "eba3289b-791c-431d-abb3-0421e39d0663",
   "metadata": {},
   "outputs": [],
   "source": [
    "def multiplication_table():\n",
    "    for i in range(1,6):\n",
    "        for j in range(1,6):\n",
    "            print(f\"{i} x {j} = {i*j}\")            "
   ]
  }
 ],
 "metadata": {
  "kernelspec": {
   "display_name": "Python 3 (ipykernel)",
   "language": "python",
   "name": "python3"
  },
  "language_info": {
   "codemirror_mode": {
    "name": "ipython",
    "version": 3
   },
   "file_extension": ".py",
   "mimetype": "text/x-python",
   "name": "python",
   "nbconvert_exporter": "python",
   "pygments_lexer": "ipython3",
   "version": "3.12.7"
  }
 },
 "nbformat": 4,
 "nbformat_minor": 5
}
